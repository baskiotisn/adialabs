{
 "cells": [
  {
   "cell_type": "markdown",
   "id": "2358251c-b1a5-4357-a60f-a5eb64d4fd54",
   "metadata": {},
   "source": [
    "# ADIA Training\n",
    "# Module: Unsupervised Learning\n",
    "# Clustering, Segmentation, Visualization, Dimensional Reduction"
   ]
  },
  {
   "cell_type": "code",
   "execution_count": null,
   "id": "185c7de6-05a2-4fce-b145-bb2edb6e504d",
   "metadata": {},
   "outputs": [
    {
     "name": "stderr",
     "output_type": "stream",
     "text": [
      "/usr/lib/python3/dist-packages/scipy/__init__.py:146: UserWarning: A NumPy version >=1.17.3 and <1.25.0 is required for this version of SciPy (detected version 1.26.4\n",
      "  warnings.warn(f\"A NumPy version >={np_minversion} and <{np_maxversion}\"\n"
     ]
    }
   ],
   "source": [
    "import pandas as pd\n",
    "import sklearn\n",
    "import numpy as np\n",
    "import matplotlib.pyplot as plt\n",
    "import seaborn as sns\n",
    "from sklearn import preprocessing"
   ]
  },
  {
   "cell_type": "markdown",
   "id": "e2f5b835-4c38-49eb-8f5b-7e17897602b6",
   "metadata": {},
   "source": [
    "<div class = \"alert alert-block alert-warning\">\n",
    "The file <code>customers.csv</code> contains a list of customers with the total spend by item. The objective of this lab is to do a clustering on the customers and experimenting with dimensional reduction and visualization.\n",
    "\n",
    "</div>"
   ]
  },
  {
   "cell_type": "markdown",
   "id": "e2bb0f04-410c-481b-9cf9-ea871f62a033",
   "metadata": {},
   "source": [
    "# 1 EDA (exploratory data analysis)"
   ]
  },
  {
   "cell_type": "markdown",
   "id": "8aa66559-7ad9-460e-ba05-89a954b9920f",
   "metadata": {},
   "source": [
    "<div class = \"alert alert-block alert-info\">\n",
    "Open the file and load the data.\n",
    "Draw :\n",
    "    <br>* the violin plot/bloxplot of each feature and the barplot\n",
    "    <br>* the scatter plot of the pairwise features\n",
    "    <br>* the correlation matrix \n",
    "</div>"
   ]
  },
  {
   "cell_type": "code",
   "execution_count": null,
   "id": "39b8d004-9352-4f8c-8f45-27900ee44288",
   "metadata": {},
   "outputs": [],
   "source": []
  },
  {
   "cell_type": "markdown",
   "id": "5768dd33-aab0-4726-ab30-64eb7f075a96",
   "metadata": {},
   "source": [
    "<div class = \"alert alert-block alert-info\">\n",
    "What can you deduce from those graphs ? What transformation is required ?\n",
    "    </br>\n",
    "    Apply it and redraw the graphs.\n",
    "</div>"
   ]
  },
  {
   "cell_type": "code",
   "execution_count": null,
   "id": "3fd59172-510f-478a-8550-8735d83536a7",
   "metadata": {},
   "outputs": [],
   "source": []
  },
  {
   "cell_type": "markdown",
   "id": "9ad839e9-4fcc-4dc3-979e-81e76a5c0f05",
   "metadata": {},
   "source": [
    "# 2 - Dimensional reduction\n",
    "\n",
    "<div class = \"alert alert-block alert-info\">\n",
    "The correlation matrix shows that some features are correlated. Here we will use a PCA to reduce the dimensionality.\n",
    "    <br>\n",
    " Compute the PCA  (what is mandatory to do before computing the PCA ?)\n",
    "   \n",
    "   \n",
    "</div>"
   ]
  },
  {
   "cell_type": "code",
   "execution_count": null,
   "id": "29ab8bea-b580-4318-b953-016757dad323",
   "metadata": {},
   "outputs": [],
   "source": []
  },
  {
   "cell_type": "markdown",
   "id": "53a3e7b6-e3ce-4086-a805-59ec8ab53784",
   "metadata": {},
   "source": [
    "<div class = \"alert alert-block alert-info\">\n",
    " Display the explained variance for each axis\n",
    "    </div>"
   ]
  },
  {
   "cell_type": "code",
   "execution_count": null,
   "id": "0632e7cb-07d5-4238-ae49-a6589d36b2bb",
   "metadata": {},
   "outputs": [],
   "source": []
  },
  {
   "cell_type": "markdown",
   "id": "9375dfe5-9b5e-45c9-9cc8-b7166c1dba78",
   "metadata": {},
   "source": [
    "<div class = \"alert alert-block alert-info\">\n",
    "Draw with a plotbar the coordinates of the new dimensions with respect to the old ones. \n",
    "    </div>"
   ]
  },
  {
   "cell_type": "code",
   "execution_count": null,
   "id": "7ef0698f-9617-43a7-8a2f-1619f06396ef",
   "metadata": {},
   "outputs": [],
   "source": []
  },
  {
   "cell_type": "markdown",
   "id": "c21aacf4-b569-4d0b-a631-12a90172d28d",
   "metadata": {},
   "source": [
    "<div class = \"alert alert-block alert-info\">\n",
    "Look at the contribution of each sample to each new axis. Draw the histogram.\n",
    "</div>"
   ]
  },
  {
   "cell_type": "code",
   "execution_count": null,
   "id": "6a57f891-513a-4586-af16-cc1046287195",
   "metadata": {},
   "outputs": [],
   "source": []
  },
  {
   "cell_type": "markdown",
   "id": "3eaeba27-dbf6-4756-8dd4-d389d3222ee1",
   "metadata": {},
   "source": [
    "<div class = \"alert alert-block alert-info\">\n",
    "Look at the contribution of each dimension to each new axis\n",
    "    </div>"
   ]
  },
  {
   "cell_type": "code",
   "execution_count": null,
   "id": "cabfdc31-7749-44cd-834c-0dd9bfa4da5e",
   "metadata": {},
   "outputs": [],
   "source": []
  },
  {
   "cell_type": "markdown",
   "id": "bdf45625-9a39-4ad8-b704-8c1e6dca8d48",
   "metadata": {},
   "source": [
    "<div class = \"alert alert-block alert-info\">\n",
    "Draw the first two axes and the features in a biplot. \n",
    "    </br>\n",
    "    What can you conclude from the biplot ?\n",
    "    </div>"
   ]
  },
  {
   "cell_type": "markdown",
   "id": "73c7c9b9-cfd4-4c2d-9b40-669d5acbc172",
   "metadata": {},
   "source": [
    "# 3 - Clustering and Visualization"
   ]
  },
  {
   "cell_type": "markdown",
   "id": "c6e45e12-4dcd-4600-8503-f660cabc1a15",
   "metadata": {},
   "source": [
    "<div class = \"alert alert-block alert-info\">\n",
    "    First, you will use k-means to cluster the data. Use the elbow method to determine the best k. \n",
    "    <br>\n",
    "    For the selected k, display the centroids. To do this, you'll need to apply the inverse PCA transform to recover the original dimensions. Is there an interpretation of the various clusters?\n",
    "    <br>\n",
    "Display the points according to the first 2 axes of the PCA and color them according to the cluster to which they belong.\n",
    "\n",
    "</div>\n"
   ]
  },
  {
   "cell_type": "code",
   "execution_count": null,
   "id": "16239f05-5d30-43b1-8119-ec28010a4ed0",
   "metadata": {},
   "outputs": [],
   "source": []
  },
  {
   "cell_type": "markdown",
   "id": "54e7041d-4015-4227-8232-af03693e19c1",
   "metadata": {},
   "source": [
    " Use the MDS, Isomap and t-SNE algorithms to display the data and the clusters. Compare the results."
   ]
  },
  {
   "cell_type": "markdown",
   "id": "70d2ab3b-7f16-48ec-9d85-3eb30d6e4bf3",
   "metadata": {},
   "source": [
    "<div class = \"alert alert-block alert-info\">\n",
    "Use DBScan and agglomerative clustering to infer new clusters. Draw the scatter plot of the best result with a color by cluster.  Did one looks better than the other ?\n",
    "    </div>\n",
    "    "
   ]
  },
  {
   "cell_type": "code",
   "execution_count": null,
   "id": "9c923705-c16b-412c-b6c1-3277e306064f",
   "metadata": {},
   "outputs": [],
   "source": []
  },
  {
   "cell_type": "code",
   "execution_count": null,
   "id": "bdb59d45-f9bb-4024-bae1-f64acb56dfe1",
   "metadata": {},
   "outputs": [],
   "source": []
  },
  {
   "cell_type": "code",
   "execution_count": null,
   "id": "1ef175b7-8f4b-4f54-b276-449139d3d0fa",
   "metadata": {},
   "outputs": [],
   "source": []
  }
 ],
 "metadata": {
  "kernelspec": {
   "display_name": "Python 3 (ipykernel)",
   "language": "python",
   "name": "python3"
  },
  "language_info": {
   "codemirror_mode": {
    "name": "ipython",
    "version": 3
   },
   "file_extension": ".py",
   "mimetype": "text/x-python",
   "name": "python",
   "nbconvert_exporter": "python",
   "pygments_lexer": "ipython3",
   "version": "3.10.12"
  }
 },
 "nbformat": 4,
 "nbformat_minor": 5
}
