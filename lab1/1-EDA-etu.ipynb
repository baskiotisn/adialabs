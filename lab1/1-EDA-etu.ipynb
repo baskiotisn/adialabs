{
 "cells": [
  {
   "cell_type": "markdown",
   "metadata": {
    "id": "snhL9W6GUFhM"
   },
   "source": [
    "# Exploratory Data Analysis\n",
    "\n",
    "The objective of this notebook is to practice EDA.\n",
    "\n",
    "Most of the work will be done with pandas; a tutorial is available  [here](https://pandas.pydata.org/docs/user_guide/10min.html).\n",
    "\n",
    "\n",
    "This notebook is heavily inspired by the notebooks published by Galiana, Lino. 2023. Python for Data Science. https://doi.org/10.5281/zenodo.8229676.\n"
   ]
  },
  {
   "cell_type": "markdown",
   "metadata": {
    "id": "NhazNolEWedh"
   },
   "source": [
    "## Dataset Exploration\n",
    "<div class=\"alert alert-block alert-warning\">\n",
    "The dataset under consideration contains information on elections and votes in the United States from 2000 to 2016, along with economic information. The following lines allow you to load the dataset.\n",
    "</div>\n"
   ]
  },
  {
   "cell_type": "code",
   "execution_count": 1,
   "metadata": {
    "id": "Q23PofkyPqAS"
   },
   "outputs": [
    {
     "name": "stdout",
     "output_type": "stream",
     "text": [
      "Defaulting to user installation because normal site-packages is not writeable\n",
      "Requirement already satisfied: geopandas in /home/baskiotisn/.local/lib/python3.10/site-packages (0.14.3)\n",
      "Requirement already satisfied: packaging in /home/baskiotisn/.local/lib/python3.10/site-packages (from geopandas) (24.0)\n",
      "Requirement already satisfied: fiona>=1.8.21 in /home/baskiotisn/.local/lib/python3.10/site-packages (from geopandas) (1.9.6)\n",
      "Requirement already satisfied: pyproj>=3.3.0 in /home/baskiotisn/.local/lib/python3.10/site-packages (from geopandas) (3.6.1)\n",
      "Requirement already satisfied: pandas>=1.4.0 in /home/baskiotisn/.local/lib/python3.10/site-packages (from geopandas) (2.2.1)\n",
      "Requirement already satisfied: shapely>=1.8.0 in /usr/lib/python3/dist-packages (from geopandas) (1.8.0)\n",
      "Requirement already satisfied: certifi in /home/baskiotisn/.local/lib/python3.10/site-packages (from fiona>=1.8.21->geopandas) (2024.2.2)\n",
      "Requirement already satisfied: click~=8.0 in /home/baskiotisn/.local/lib/python3.10/site-packages (from fiona>=1.8.21->geopandas) (8.1.7)\n",
      "Requirement already satisfied: six in /usr/lib/python3/dist-packages (from fiona>=1.8.21->geopandas) (1.16.0)\n",
      "Requirement already satisfied: click-plugins>=1.0 in /home/baskiotisn/.local/lib/python3.10/site-packages (from fiona>=1.8.21->geopandas) (1.1.1)\n",
      "Requirement already satisfied: cligj>=0.5 in /home/baskiotisn/.local/lib/python3.10/site-packages (from fiona>=1.8.21->geopandas) (0.7.2)\n",
      "Requirement already satisfied: attrs>=19.2.0 in /home/baskiotisn/.local/lib/python3.10/site-packages (from fiona>=1.8.21->geopandas) (23.2.0)\n",
      "Requirement already satisfied: tzdata>=2022.7 in /home/baskiotisn/.local/lib/python3.10/site-packages (from pandas>=1.4.0->geopandas) (2024.1)\n",
      "Requirement already satisfied: numpy<2,>=1.22.4 in /home/baskiotisn/.local/lib/python3.10/site-packages (from pandas>=1.4.0->geopandas) (1.26.4)\n",
      "Requirement already satisfied: pytz>=2020.1 in /home/baskiotisn/.local/lib/python3.10/site-packages (from pandas>=1.4.0->geopandas) (2024.1)\n",
      "Requirement already satisfied: python-dateutil>=2.8.2 in /home/baskiotisn/.local/lib/python3.10/site-packages (from pandas>=1.4.0->geopandas) (2.9.0.post0)\n",
      "Defaulting to user installation because normal site-packages is not writeable\n",
      "Requirement already satisfied: xlrd in /home/baskiotisn/.local/lib/python3.10/site-packages (2.0.1)\n"
     ]
    },
    {
     "name": "stderr",
     "output_type": "stream",
     "text": [
      "/usr/lib/python3/dist-packages/scipy/__init__.py:146: UserWarning: A NumPy version >=1.17.3 and <1.25.0 is required for this version of SciPy (detected version 1.26.4\n",
      "  warnings.warn(f\"A NumPy version >={np_minversion} and <{np_maxversion}\"\n"
     ]
    }
   ],
   "source": [
    "\n",
    "!pip install geopandas\n",
    "!pip install pandas\n",
    "\n",
    "import pandas as pd\n",
    "import geopandas as gpd\n",
    "import numpy as np\n",
    "import seaborn as sns\n",
    "import matplotlib.pyplot as plt\n"
   ]
  },
  {
   "cell_type": "code",
   "execution_count": 2,
   "metadata": {},
   "outputs": [],
   "source": [
    "votes = pd.read_csv(\"data/votes.csv\")\n",
    "votes.FIPS = votes.FIPS.astype(str)\n",
    "shp = gpd.read_file(\"data/votes_shp\")\n",
    "\n",
    "votes = shp.merge(votes,on=\"FIPS\")"
   ]
  },
  {
   "cell_type": "markdown",
   "metadata": {
    "id": "wBFIQH6CtRor"
   },
   "source": [
    "<div class=\"alert alert-block alert-info\">\n",
    "* Display the first three rows of the table, and the last three.\n",
    "    <br>\n",
    "* What is the size of the dataframe?\n",
    "    <br>\n",
    "* Display the names of the columns and their types.\n",
    "    <br>\n",
    "* In your opinion, what do the different columns represent?\n",
    "</div>"
   ]
  },
  {
   "cell_type": "code",
   "execution_count": null,
   "metadata": {},
   "outputs": [],
   "source": [
    "#[STUDENT]\n"
   ]
  },
  {
   "cell_type": "markdown",
   "metadata": {},
   "source": [
    "<div class=\"alert alert-block alert-info\">\n",
    "* Display the statistics for each column (mean, variance, quartiles, min, max).\n",
    "    <br>\n",
    "* In your opinion, what does each column represent?\n",
    "</div>"
   ]
  },
  {
   "cell_type": "code",
   "execution_count": null,
   "metadata": {
    "id": "UDNUUlvCs1Vb"
   },
   "outputs": [],
   "source": [
    "#[STUDENT]\n"
   ]
  },
  {
   "cell_type": "markdown",
   "metadata": {
    "id": "fqERsYEO0ufg"
   },
   "source": [
    "<div class=\"alert alert-block alert-info\">\n",
    "What are the different values of 'winner'? Assign an integer to each category of this column and save it in a new variable \"winner2\".\n",
    "</div>"
   ]
  },
  {
   "cell_type": "code",
   "execution_count": null,
   "metadata": {
    "id": "q7Lqo9R31AuB"
   },
   "outputs": [],
   "source": [
    "#[STUDENT]"
   ]
  },
  {
   "cell_type": "markdown",
   "metadata": {
    "id": "A68TVqNhaLAt"
   },
   "source": [
    "## Descriptive Analysis\n",
    "<div class=\"alert alert-block alert-info\">\n",
    "We will focus on a few columns from this dataset. Create a dataframe that includes only the variables: 'winner', 'votes_gop', 'Unemployment_rate_2019', 'Median_Household_Income_2019', 'Percent of adults with less than a high school diploma, 2015-19', \"Percent of adults with a bachelor's degree or higher, 2015-19\".\n",
    "\n",
    "Keep the index \"GEOID\" as the index of the dataframe (use set_index).\n",
    "</div>"
   ]
  },
  {
   "cell_type": "code",
   "execution_count": null,
   "metadata": {
    "id": "PN-ger7EaOMT"
   },
   "outputs": [],
   "source": [
    "#[STUDENT]\n"
   ]
  },
  {
   "cell_type": "markdown",
   "metadata": {
    "id": "OK8n-qgK1zVG"
   },
   "source": [
    "<div class=\"alert alert-block alert-info\">\n",
    "    Create a dataframe that, for each value of \"winner2\", gives the total number of occurrences. Display the histogram.\n",
    "</div>"
   ]
  },
  {
   "cell_type": "code",
   "execution_count": null,
   "metadata": {
    "id": "PmJRu1Kg11mw"
   },
   "outputs": [],
   "source": [
    "#[STUDENT]\n"
   ]
  },
  {
   "cell_type": "markdown",
   "metadata": {
    "id": "NjBUKv6j2cjk"
   },
   "source": [
    "<div class=\"alert alert-block alert-info\">\n",
    "We consider the variable 'Median_Household_Income_2019'. We want to transform it into a categorical variable with 5 labels. How can we do this and what should we pay attention to?\n",
    "    <br>\n",
    "Create a table of the number of occurrences and display the histogram.\n",
    "</div>"
   ]
  },
  {
   "cell_type": "code",
   "execution_count": null,
   "metadata": {
    "id": "dDLzqqgf20Ai"
   },
   "outputs": [],
   "source": [
    "#[STUDENT]\n"
   ]
  },
  {
   "cell_type": "code",
   "execution_count": null,
   "metadata": {},
   "outputs": [],
   "source": [
    "#[STUDENT]\n"
   ]
  },
  {
   "cell_type": "markdown",
   "metadata": {
    "id": "gdk_6JpAqP5d"
   },
   "source": [
    "<div class=\"alert alert-block alert-info\">\n",
    "Display the statistics of all columns in the dataframe.\n",
    "</div>"
   ]
  },
  {
   "cell_type": "code",
   "execution_count": null,
   "metadata": {
    "id": "9FW9acNXqPVS"
   },
   "outputs": [],
   "source": [
    "#[STUDENT]\n"
   ]
  },
  {
   "cell_type": "markdown",
   "metadata": {
    "id": "By6z3BRhrwb1"
   },
   "source": [
    "<div class=\"alert alert-block alert-info\">\n",
    "Create a histogram of the variable 'Unemployment_rate_2019' with 20 bins.\n",
    "</div>"
   ]
  },
  {
   "cell_type": "code",
   "execution_count": null,
   "metadata": {
    "id": "6xhXRvImrwMO"
   },
   "outputs": [],
   "source": [
    "#[STUDENT]\n"
   ]
  },
  {
   "cell_type": "markdown",
   "metadata": {
    "id": "O35QIZ1svGhl"
   },
   "source": [
    "<div class=\"alert alert-block alert-info\">\n",
    "Extract the correlation matrix. Display the heatmap of this matrix. Display the scatter plot of the dataframe. What link can you establish between all these visualizations? What can you deduce?\n",
    "</div>"
   ]
  },
  {
   "cell_type": "code",
   "execution_count": null,
   "metadata": {},
   "outputs": [],
   "source": [
    "#[STUDENT]\n"
   ]
  },
  {
   "cell_type": "code",
   "execution_count": null,
   "metadata": {
    "id": "Yo0UR7MvvG3H"
   },
   "outputs": [],
   "source": [
    "#[STUDENT]\n"
   ]
  },
  {
   "cell_type": "markdown",
   "metadata": {
    "id": "luC6JPCRV6cS"
   },
   "source": [
    "##  Visualizing Geographic Data\n",
    "<div class=\"alert alert-block alert-warning\">\n",
    "The two following code blocks generate two different types of graphs (the first one is called a \"choropleth\"). Same dataset, but different representations. Discuss and comment.\n",
    "</div>"
   ]
  },
  {
   "cell_type": "code",
   "execution_count": null,
   "metadata": {
    "id": "9kBXZhQhYNFx"
   },
   "outputs": [],
   "source": [
    "# republican : red, democrat : blue\n",
    "color_dict = {'republican': '#FF0000', 'democrats': '#0000FF'}\n",
    "\n",
    "fig, ax = plt.subplots(figsize = (12,12))\n",
    "grouped = votes.groupby('winner')\n",
    "for key, group in grouped:\n",
    "    group.plot(ax=ax, label=key, color=color_dict[key])\n",
    "plt.axis('off')"
   ]
  },
  {
   "cell_type": "code",
   "execution_count": null,
   "metadata": {
    "id": "gmiHYiXiV3ak"
   },
   "outputs": [],
   "source": [
    "import plotly\n",
    "import plotly.graph_objects as go\n",
    "\n",
    "centroids = votes.copy()\n",
    "centroids.geometry = centroids.centroid\n",
    "centroids['size'] = centroids['CENSUS_2010_POP'] / 10000  # to get reasonable plotable number\n",
    "\n",
    "color_dict = {\"republican\": '#FF0000', 'democrats': '#0000FF'}\n",
    "centroids[\"winner\"] =  np.where(centroids['votes_gop'] > centroids['votes_dem'], 'republican', 'democrats')\n",
    "centroids['lon'] = centroids['geometry'].x\n",
    "centroids['lat'] = centroids['geometry'].y\n",
    "centroids = pd.DataFrame(centroids[[\"county_name\",'lon','lat','winner', 'CENSUS_2010_POP',\"state_name\"]])\n",
    "groups = centroids.groupby('winner')\n",
    "\n",
    "df = centroids.copy()\n",
    "\n",
    "df['color'] = df['winner'].replace(color_dict)\n",
    "df['size'] = df['CENSUS_2010_POP']/6000\n",
    "df['text'] = df['CENSUS_2010_POP'].astype(int).apply(lambda x: '<br>Population: {:,} people'.format(x))\n",
    "df['hover'] = df['county_name'].astype(str) +  df['state_name'].apply(lambda x: ' ({}) '.format(x)) + df['text']\n",
    "\n",
    "fig_plotly = go.Figure(\n",
    "  data=go.Scattergeo(\n",
    "  locationmode = 'USA-states',\n",
    "  lon=df[\"lon\"], lat=df[\"lat\"],\n",
    "  text = df[\"hover\"],\n",
    "  mode = 'markers',\n",
    "  marker_color = df[\"color\"],\n",
    "  marker_size = df['size'],\n",
    "  hoverinfo=\"text\"\n",
    "  )\n",
    ")\n",
    "\n",
    "fig_plotly.update_traces(\n",
    "  marker = {'opacity': 0.5, 'line_color': 'rgb(40,40,40)', 'line_width': 0.5, 'sizemode': 'area'}\n",
    ")\n",
    "\n",
    "fig_plotly.update_layout(\n",
    "  title_text = \"Reproduction of the \\\"Acres don't vote, people do\\\" map <br>(Click legend to toggle traces)\",\n",
    "  showlegend = True,\n",
    "  geo = {\"scope\": 'usa', \"landcolor\": 'rgb(217, 217, 217)'}\n",
    ")"
   ]
  },
  {
   "cell_type": "markdown",
   "metadata": {
    "id": "VwiyhCA-x_SA"
   },
   "source": [
    "<div class=\"alert alert-block alert-info\">\n",
    "    Use StandardScaler and MinMaxScaler from sklearn to normalize the variables in the dataframe. Compare the histograms obtained, for example, for the variable \"Median_Household_Income_2019\".\n",
    "</div>"
   ]
  },
  {
   "cell_type": "code",
   "execution_count": null,
   "metadata": {
    "id": "krXUZWpW5zhA"
   },
   "outputs": [],
   "source": [
    "from sklearn import preprocessing\n",
    "from sklearn.preprocessing import StandardScaler,MinMaxScaler\n",
    "#[STUDENT]\n",
    "\n"
   ]
  },
  {
   "cell_type": "code",
   "execution_count": null,
   "metadata": {
    "id": "yUJTUB8S6Qr4"
   },
   "outputs": [],
   "source": [
    "#[STUDENT]\n"
   ]
  },
  {
   "cell_type": "code",
   "execution_count": null,
   "metadata": {
    "id": "oYRSkQq36qWE"
   },
   "outputs": [],
   "source": [
    "#[STUDENT]\n"
   ]
  },
  {
   "cell_type": "code",
   "execution_count": null,
   "metadata": {},
   "outputs": [],
   "source": [
    "#[STUDENT]\n"
   ]
  },
  {
   "cell_type": "markdown",
   "metadata": {
    "id": "YKdIsBOK7Lp-"
   },
   "source": [
    "## Anomaly Detection\n",
    "\n",
    "<div class=\"alert alert-block alert-info\">\n",
    "Display the distribution of each variable with a boxplot and a violin plot. Do you observe any anomalies? What is the purpose of these two visualizations?\n",
    "</div>"
   ]
  },
  {
   "cell_type": "code",
   "execution_count": null,
   "metadata": {
    "id": "snOegBBBA8gg"
   },
   "outputs": [],
   "source": [
    "#[STUDENT]\n"
   ]
  },
  {
   "cell_type": "markdown",
   "metadata": {
    "id": "3Hx_nnk_B4XQ"
   },
   "source": [
    "<div class=\"alert alert-block alert-info\">\n",
    "Identify, for each variable, the individuals not included in the window +/- 3*std. How many individuals does this concern? Create a new column \"outlier\" in the dataframe, assigning 1 when an individual is an outlier, and 0 otherwise.\n",
    "</div>"
   ]
  },
  {
   "cell_type": "code",
   "execution_count": null,
   "metadata": {
    "id": "WviWJOzlB386"
   },
   "outputs": [],
   "source": [
    "#[STUDENT]\n"
   ]
  },
  {
   "cell_type": "markdown",
   "metadata": {
    "id": "0SJF3nxmoaqw"
   },
   "source": [
    "<div class=\"alert alert-block alert-info\">\n",
    "Display a scatter plot of the variables 'votes_gop' and 'Unemployment_rate_2019', coloring the points according to whether they are outliers or not.\n",
    "</div>"
   ]
  },
  {
   "cell_type": "code",
   "execution_count": 1,
   "metadata": {
    "id": "EwCHxggE8OaQ"
   },
   "outputs": [],
   "source": [
    "#[STUDENT]\n"
   ]
  },
  {
   "cell_type": "markdown",
   "metadata": {
    "id": "E1zPj-L4pS8E"
   },
   "source": [
    "<div class=\"alert alert-block alert-info\">\n",
    "Display a scatter plot of all the variables.\n",
    "</div>"
   ]
  },
  {
   "cell_type": "code",
   "execution_count": null,
   "metadata": {
    "id": "s6JEsm8Vl8Gz"
   },
   "outputs": [],
   "source": [
    "#[STUDENT]\n"
   ]
  }
 ],
 "metadata": {
  "colab": {
   "provenance": []
  },
  "kernelspec": {
   "display_name": "Python 3 (ipykernel)",
   "language": "python",
   "name": "python3"
  },
  "language_info": {
   "codemirror_mode": {
    "name": "ipython",
    "version": 3
   },
   "file_extension": ".py",
   "mimetype": "text/x-python",
   "name": "python",
   "nbconvert_exporter": "python",
   "pygments_lexer": "ipython3",
   "version": "3.10.12"
  }
 },
 "nbformat": 4,
 "nbformat_minor": 4
}
